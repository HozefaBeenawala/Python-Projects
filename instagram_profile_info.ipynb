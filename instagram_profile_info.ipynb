{
 "cells": [
  {
   "cell_type": "markdown",
   "id": "1cf63894",
   "metadata": {},
   "source": [
    "# Getting Instagram profile info using python."
   ]
  },
  {
   "cell_type": "markdown",
   "id": "4171cfb1",
   "metadata": {},
   "source": [
    "importing libraries"
   ]
  },
  {
   "cell_type": "code",
   "execution_count": 2,
   "id": "043d49bb",
   "metadata": {},
   "outputs": [],
   "source": [
    "from bs4 import BeautifulSoup\n",
    "import requests"
   ]
  },
  {
   "cell_type": "markdown",
   "id": "f5ffdb13",
   "metadata": {},
   "source": [
    "instagram URL"
   ]
  },
  {
   "cell_type": "code",
   "execution_count": 3,
   "id": "93e03f55",
   "metadata": {},
   "outputs": [],
   "source": [
    "URL = \"https://www.instagram.com/{}/\""
   ]
  },
  {
   "cell_type": "markdown",
   "id": "f56370d3",
   "metadata": {},
   "source": [
    "parse function"
   ]
  },
  {
   "cell_type": "code",
   "execution_count": 4,
   "id": "a4c5a211",
   "metadata": {},
   "outputs": [],
   "source": [
    "def parse_data(s):\n",
    "    #creating a dictionary\n",
    "    data = {}\n",
    "    #splitting the content\n",
    "    #then taking the first part\n",
    "    s = s.split(\"-\")[0]\n",
    "    #again splitting the content\n",
    "    s = s.split(\" \")\n",
    "    #assigning the values\n",
    "    data['Followers'] = s[0]\n",
    "    data['Following'] = s[2]\n",
    "    data['Posts'] = s[4]\n",
    "    #returning the dictionary\n",
    "    return data"
   ]
  },
  {
   "cell_type": "markdown",
   "id": "e1866767",
   "metadata": {},
   "source": [
    "scrape function"
   ]
  },
  {
   "cell_type": "code",
   "execution_count": 5,
   "id": "5b029b9f",
   "metadata": {},
   "outputs": [],
   "source": [
    "def scrape_data(username):\n",
    "    #getting the request from url\n",
    "    r = requests.get(URL.format(username))\n",
    "    #converting the text\n",
    "    s = BeautifulSoup(r.text,\"html.parser\")\n",
    "    #finding meta info\n",
    "    meta = s.find(\"meta\", property = \"og:description\")\n",
    "    #calling parse method\n",
    "    return parse_data(meta.attrs['content'])"
   ]
  },
  {
   "cell_type": "markdown",
   "id": "60809346",
   "metadata": {},
   "source": [
    "main function"
   ]
  },
  {
   "cell_type": "code",
   "execution_count": 8,
   "id": "f62f46a1",
   "metadata": {},
   "outputs": [
    {
     "name": "stdout",
     "output_type": "stream",
     "text": [
      "Enter the username : instagram\n",
      "{'Followers': '483m', 'Following': '111', 'Posts': '7,085'}\n"
     ]
    }
   ],
   "source": [
    "if __name__==\"__main__\":\n",
    "    #user name\n",
    "    username = input(\"Enter the username : \")\n",
    "    #calling scrape function\n",
    "    data = scrape_data(username)\n",
    "    #printing the info\n",
    "    print(data)"
   ]
  },
  {
   "cell_type": "code",
   "execution_count": null,
   "id": "c9980d6c",
   "metadata": {},
   "outputs": [],
   "source": []
  }
 ],
 "metadata": {
  "kernelspec": {
   "display_name": "Python 3 (ipykernel)",
   "language": "python",
   "name": "python3"
  },
  "language_info": {
   "codemirror_mode": {
    "name": "ipython",
    "version": 3
   },
   "file_extension": ".py",
   "mimetype": "text/x-python",
   "name": "python",
   "nbconvert_exporter": "python",
   "pygments_lexer": "ipython3",
   "version": "3.9.9"
  }
 },
 "nbformat": 4,
 "nbformat_minor": 5
}
